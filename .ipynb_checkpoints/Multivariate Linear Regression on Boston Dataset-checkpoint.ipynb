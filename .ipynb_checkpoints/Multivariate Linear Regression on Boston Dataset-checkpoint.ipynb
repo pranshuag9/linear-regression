{
 "cells": [
  {
   "cell_type": "code",
   "execution_count": 1,
   "metadata": {},
   "outputs": [],
   "source": [
    "from sklearn.datasets import load_boston\n",
    "from sklearn.metrics import r2_score\n",
    "import numpy as np\n",
    "import matplotlib.pyplot as plt\n",
    "boston = load_boston()"
   ]
  },
  {
   "cell_type": "code",
   "execution_count": 2,
   "metadata": {},
   "outputs": [
    {
     "name": "stdout",
     "output_type": "stream",
     "text": [
      "(506, 13)\n",
      "(506,)\n"
     ]
    }
   ],
   "source": [
    "X = boston.data\n",
    "Y = boston.target\n",
    "\n",
    "print(X.shape)\n",
    "print(Y.shape)"
   ]
  },
  {
   "cell_type": "code",
   "execution_count": 3,
   "metadata": {},
   "outputs": [],
   "source": [
    "from sklearn.linear_model import LinearRegression\n",
    "from sklearn.model_selection import train_test_split"
   ]
  },
  {
   "cell_type": "code",
   "execution_count": 4,
   "metadata": {},
   "outputs": [
    {
     "name": "stdout",
     "output_type": "stream",
     "text": [
      "(404, 13)\n",
      "(102, 13)\n"
     ]
    }
   ],
   "source": [
    "X_train,X_test,Y_train,Y_test = train_test_split(X,Y,test_size=0.2)\n",
    "\n",
    "print(X_train.shape)\n",
    "print(X_test.shape)"
   ]
  },
  {
   "cell_type": "markdown",
   "metadata": {},
   "source": [
    "## Train out Linear Regression Model"
   ]
  },
  {
   "cell_type": "code",
   "execution_count": 5,
   "metadata": {},
   "outputs": [
    {
     "name": "stdout",
     "output_type": "stream",
     "text": [
      "LinearRegression(copy_X=True, fit_intercept=True, n_jobs=None, normalize=True)\n",
      "[-1.04141719e-01  4.05850108e-02  2.56920744e-02  3.78403460e+00\n",
      " -1.83907351e+01  4.45385733e+00 -3.86325373e-03 -1.59233010e+00\n",
      "  2.59621388e-01 -8.66076684e-03 -9.29443681e-01  1.00953674e-02\n",
      " -5.45545170e-01]\n",
      "32.0351491055958\n"
     ]
    }
   ],
   "source": [
    "# 1. Create an object\n",
    "lr = LinearRegression(normalize=True)\n",
    "print(lr)\n",
    "\n",
    "# 2. Training\n",
    "lr.fit(X_train,Y_train)\n",
    "\n",
    "# 3. Output Parameters\n",
    "print(lr.coef_)\n",
    "print(lr.intercept_)"
   ]
  },
  {
   "cell_type": "code",
   "execution_count": 6,
   "metadata": {},
   "outputs": [
    {
     "data": {
      "text/plain": [
       "array([21.7105939 , 18.50850779, 15.78139076, 18.15566819, 40.8509962 ,\n",
       "       34.58008046, 29.86603856, 19.56871691, 18.06087451, 27.97610549,\n",
       "       37.03930369, 14.73486669, 23.97546149, 20.0729992 , 16.93793619,\n",
       "       33.17585369, 27.18788667, 23.57757743, 16.30503065, 20.04696691,\n",
       "       33.97508015, 12.05610066, 32.81618042,  9.06249832, 22.54810591,\n",
       "       19.0529579 , 30.58271911, 22.6746652 ,  8.12822522, 30.21533443,\n",
       "       23.7495596 , 19.50783447, 32.37059786, 25.00317276, 22.41742389,\n",
       "        7.60089169, 13.15765618, 41.86670906, 31.85752191, 21.41797806,\n",
       "        3.41187155, 12.93144678, 33.41100636,  7.71953098, 35.39047699,\n",
       "       22.9958245 , 34.24446328, 20.86821413, 17.43272869, 19.05022433,\n",
       "       22.89200086, 24.01872716, 22.80382011, 22.59767144, 17.2398563 ,\n",
       "       23.58059541, 27.46515955, 35.05833178, 13.53468857, 20.75762816,\n",
       "        5.69966614, 24.10855514, 25.48696803, 18.88585596, 18.24027242,\n",
       "       16.26098698, 20.54002111, 36.78647709, 34.5599951 , 23.13222233,\n",
       "       32.59871969, 21.85359975, 20.87221392, 34.23760047, 12.69290291,\n",
       "       12.22265461,  7.25239876, 21.88071912, 28.36649008, 23.25555557,\n",
       "       27.7636738 , 17.52869077, 18.77237374, 19.04870052, 20.93082252,\n",
       "       15.68698642, 43.62183661, 31.1372918 , 13.18372556, 31.19414711,\n",
       "       17.54992797, 41.90488765, 15.23726962, 14.27597796,  7.08363557,\n",
       "       23.63000708, 16.24681864, 11.44245508, 29.01759571, 28.9879416 ,\n",
       "       28.73619853, 26.71675651])"
      ]
     },
     "execution_count": 6,
     "metadata": {},
     "output_type": "execute_result"
    }
   ],
   "source": [
    "lr.predict(X_test)"
   ]
  },
  {
   "cell_type": "markdown",
   "metadata": {},
   "source": [
    "## Accuracy of Regression"
   ]
  },
  {
   "cell_type": "code",
   "execution_count": 7,
   "metadata": {},
   "outputs": [
    {
     "name": "stdout",
     "output_type": "stream",
     "text": [
      "Training Score 0.7462\n",
      "Testing Score 0.6808\n"
     ]
    }
   ],
   "source": [
    "print(\"Training Score %.4f\"%lr.score(X_train,Y_train))\n",
    "print(\"Testing Score %.4f\"%lr.score(X_test,Y_test))"
   ]
  },
  {
   "cell_type": "markdown",
   "metadata": {},
   "source": [
    "#### This score is coefficient of Determination\n",
    "R^2 = 1-((yA-yP)^2)/((yA-(mean of yA))^2)\n",
    "\n",
    "- Best Case = 1"
   ]
  },
  {
   "cell_type": "markdown",
   "metadata": {},
   "source": [
    "## Doing From Scratch"
   ]
  },
  {
   "cell_type": "code",
   "execution_count": 8,
   "metadata": {},
   "outputs": [],
   "source": [
    "def hypothesis(x,theta):\n",
    "    return np.dot(x,theta.T)\n",
    "\n",
    "def error(X,Y,theta):\n",
    "    m = Y.shape[0]\n",
    "    err = 0\n",
    "    \n",
    "    for i in range(m):\n",
    "        hx = hypothesis(X[i],theta)\n",
    "        err += (hx-Y[i])**2\n",
    "        \n",
    "    return err/2\n",
    "\n",
    "def predict(y_pred,y_act):\n",
    "    counter=0\n",
    "    for i in range(y_act.shape[0]):\n",
    "        if(y_pred[i]==Y_test[i]):\n",
    "            counter+=1\n",
    "    accuracy = (counter/y_act.shape[0])*100\n",
    "    \n",
    "    return accuracy"
   ]
  },
  {
   "cell_type": "markdown",
   "metadata": {},
   "source": [
    "### Gradient Descent using Batch Gradient (Taking the whole dataset)"
   ]
  },
  {
   "cell_type": "code",
   "execution_count": 9,
   "metadata": {},
   "outputs": [],
   "source": [
    "def batch_gradient(X,Y,theta):\n",
    "    m = Y.shape[0]\n",
    "    grad = np.zeros((X.shape[1],1))\n",
    "    \n",
    "    for i in range(m):\n",
    "        hx = hypothesis(X[i],theta)\n",
    "        for j in range(X.shape[1]):\n",
    "            grad[j] += ((Y[i] - hx)*X[i][j])\n",
    "            \n",
    "    return grad*0.5\n",
    "\n",
    "def batch_gradientDescent(X,Y,learning_rate=0.000000001):\n",
    "    theta = np.zeros((X.shape[1],))\n",
    "    \n",
    "    e = error(X,Y,theta)\n",
    "    de = e\n",
    "    error_list = [e]\n",
    "    itr = 0\n",
    "    \n",
    "    while(itr<=100):\n",
    "        grad = batch_gradient(X,Y,theta)\n",
    "        for j in range(X.shape[1]):\n",
    "            theta[j] = theta[j] + learning_rate*grad[j]\n",
    "        ne = error(X,Y,theta)\n",
    "        \n",
    "        if(itr%10):\n",
    "            error_list.append(ne)\n",
    "        de = ne - e\n",
    "        e = ne\n",
    "        itr += 1\n",
    "        \n",
    "    return theta,error_list"
   ]
  },
  {
   "cell_type": "code",
   "execution_count": 10,
   "metadata": {},
   "outputs": [
    {
     "data": {
      "image/png": "[encoded data removed]",
      "text/plain": [
       "<Figure size 432x288 with 1 Axes>"
      ]
     },
     "metadata": {},
     "output_type": "display_data"
    }
   ],
   "source": [
    "final_theta_1,error_list_1 = batch_gradientDescent(X_train,Y_train)\n",
    "plt.plot(error_list_1)\n",
    "plt.show()"
   ]
  },
  {
   "cell_type": "code",
   "execution_count": 23,
   "metadata": {},
   "outputs": [
    {
     "name": "stdout",
     "output_type": "stream",
     "text": [
      "[27.25405062 27.39133232 16.83093757 27.75461938 26.09606759 20.95821331\n",
      " 21.12387765 19.46539683 25.18215637 19.74893134 19.83787106 13.66555672\n",
      " 23.32966697 23.48002828 21.67265789 21.10615389 20.75045875 20.56141538\n",
      " 27.75726567 23.58412493 22.62445517 14.2676573  22.15374295 26.58743689\n",
      " 20.49133974 27.73441    22.42388362 22.5770049  14.87282228 20.90137403\n",
      " 22.26865893 21.16030137 20.13440584 20.27521131 27.20843867 19.83405752\n",
      " 26.11854128 18.62251968 20.67940163 26.06251349 23.59443865 27.75350707\n",
      " 19.98518958 22.95107089 19.30428137 20.48714835 20.71833984 21.23825595\n",
      " 20.11041262 27.77273133 20.449859   18.50965013 20.27043575 20.33367797\n",
      " 27.67290794 20.03925889 19.75958252 20.23085204 24.63518203 23.51866045\n",
      " 26.86276774 20.36373873 20.6123438  20.5150582  27.77702367 19.69356585\n",
      " 22.4743961  19.94417001 19.98456081 21.08887231 19.92579494 18.84958936\n",
      " 23.47492742 18.97861134 17.58734518 21.26852006 25.13302465 19.84379357\n",
      " 19.00785699 21.88190185 22.3230494  27.00162243 21.29402811 17.81872585\n",
      " 20.63014913 20.78930967 19.40876091 20.49455371 21.05715081 20.02403662\n",
      " 24.23939022 19.8547349  21.08856746 17.71350412 26.75556485 27.65505897\n",
      " 24.1811483  20.6814085  21.07855352 20.34013539 20.89482357 20.41275593]\n",
      "[20.6 15.4 20.2 12.7 21.9 26.7 30.1 19.5 19.9 26.6 33.2  9.6 19.2 17.1\n",
      " 17.4 33.1 22.  18.9 13.1 19.6 32.  11.8 29.8  7.  20.6 18.4 30.5 20.3\n",
      " 13.2 24.  20.8 24.3 31.6 24.  21.4 14.4 27.5 46.  29.9 16.8 14.4 12.8\n",
      " 28.5 11.8 35.1 21.7 27.  18.9 16.  10.9 21.  30.1 24.7 22.6 15.1 22.2\n",
      " 25.  33.8 17.2 19.2 10.2 24.3 21.5 18.5  7.2 19.4 19.3 36.  37.3 19.4\n",
      " 30.3 26.4 18.7 37.9 13.9 18.5  8.5 22.5 26.6 20.  23.9 23.2 27.1 20.1\n",
      " 24.5 20.6 50.  29.4 18.2 30.8 13.  50.  15.6 14.8 11.9 22.7 13.3 16.3\n",
      " 22.8 22.9 22.5 22. ]\n"
     ]
    }
   ],
   "source": [
    "y_pred_1 = hypothesis(X_test,final_theta_1)\n",
    "print(y_pred_1)\n",
    "print(Y_test)"
   ]
  },
  {
   "cell_type": "code",
   "execution_count": 24,
   "metadata": {},
   "outputs": [
    {
     "data": {
      "text/plain": [
       "-0.4129883983432747"
      ]
     },
     "execution_count": 24,
     "metadata": {},
     "output_type": "execute_result"
    }
   ],
   "source": [
    "r2_score(Y_test,y_pred_1)"
   ]
  },
  {
   "cell_type": "markdown",
   "metadata": {},
   "source": [
    "### Gradient Descent using Stochastic Gradient (Taking only one training example at a time)"
   ]
  },
  {
   "cell_type": "code",
   "execution_count": 227,
   "metadata": {},
   "outputs": [],
   "source": [
    "def stochastic_gradient(X,Y,theta,batch_size=1):\n",
    "    m = Y.shape[0]\n",
    "    indices = np.arange(m)\n",
    "    np.random.shuffle(indices)\n",
    "    indices = indices[:batch_size]\n",
    "    grad = np.zeros((X.shape[1],1))\n",
    "    \n",
    "    for i in indices:\n",
    "        hx = hypothesis(X[i],theta)\n",
    "        for j in range(X.shape[1]):\n",
    "            grad[j] += ((Y[i] - hx)*X[i][j])\n",
    "            \n",
    "    return grad*0.5\n",
    "\n",
    "def stochastic_gradientDescent(X,Y,learning_rate=0.000000000001):\n",
    "    theta = np.zeros((X.shape[1],))\n",
    "    \n",
    "    e = error(X,Y,theta)\n",
    "    de = e\n",
    "    error_list = [e]\n",
    "    itr = 0\n",
    "    \n",
    "    while(itr<=100):\n",
    "        grad = stochastic_gradient(X,Y,theta)\n",
    "        for j in range(X.shape[1]):\n",
    "            theta[j] = theta[j] + learning_rate*grad[j]\n",
    "        ne = error(X,Y,theta)\n",
    "        \n",
    "        if(itr%10):\n",
    "            error_list.append(ne)\n",
    "        de = ne - e\n",
    "        e = ne\n",
    "        itr += 1\n",
    "        \n",
    "    return theta,error_list"
   ]
  },
  {
   "cell_type": "code",
   "execution_count": 228,
   "metadata": {},
   "outputs": [
    {
     "data": {
      "image/png": "[encoded data removed]",
      "text/plain": [
       "<Figure size 432x288 with 1 Axes>"
      ]
     },
     "metadata": {},
     "output_type": "display_data"
    }
   ],
   "source": [
    "final_theta_2,error_list_2 = stochastic_gradientDescent(X_train,Y_train)\n",
    "plt.plot(error_list_2)\n",
    "plt.show()"
   ]
  },
  {
   "cell_type": "code",
   "execution_count": 229,
   "metadata": {},
   "outputs": [],
   "source": [
    "y_pred_2 = hypothesis(X_test,final_theta_2)"
   ]
  },
  {
   "cell_type": "code",
   "execution_count": 230,
   "metadata": {},
   "outputs": [
    {
     "data": {
      "text/plain": [
       "-7.281564393519341"
      ]
     },
     "execution_count": 230,
     "metadata": {},
     "output_type": "execute_result"
    }
   ],
   "source": [
    "r2_score(Y_test,y_pred_2)"
   ]
  },
  {
   "cell_type": "markdown",
   "metadata": {},
   "source": [
    "### Gradient Descent using Mini-Batch Gradient (Taking the subsets of the training examples)"
   ]
  },
  {
   "cell_type": "code",
   "execution_count": 339,
   "metadata": {},
   "outputs": [],
   "source": [
    "def mini_batch_gradient(X,Y,theta,batch_size=32):\n",
    "    m = Y.shape[0]\n",
    "    indices = np.arange(m)\n",
    "    np.random.shuffle(indices)\n",
    "    indices = indices[:batch_size]\n",
    "    grad = np.zeros((X.shape[1],1))\n",
    "    \n",
    "    for i in indices:\n",
    "        hx = hypothesis(X[i],theta)\n",
    "        for j in range(X.shape[1]):\n",
    "            grad[j] += ((Y[i] - hx)*X[i][j])\n",
    "            \n",
    "    return grad*0.5\n",
    "\n",
    "def mini_batch_gradientDescent(X,Y,learning_rate=0.0000001):\n",
    "    theta = np.zeros((X.shape[1],))\n",
    "    \n",
    "    e = error(X,Y,theta)\n",
    "    de = e\n",
    "    error_list = [e]\n",
    "    itr = 0\n",
    "    \n",
    "    while(itr<=100):\n",
    "        grad = mini_batch_gradient(X,Y,theta)\n",
    "        for j in range(X.shape[1]):\n",
    "            theta[j] = theta[j] + learning_rate*grad[j]\n",
    "        ne = error(X,Y,theta)\n",
    "        \n",
    "        if(itr%10):\n",
    "            error_list.append(ne)\n",
    "        de = ne - e\n",
    "        e = ne\n",
    "        itr += 1\n",
    "        \n",
    "    return theta,error_list"
   ]
  },
  {
   "cell_type": "code",
   "execution_count": 340,
   "metadata": {},
   "outputs": [
    {
     "data": {
      "image/png": "[encoded data removed]",
      "text/plain": [
       "<Figure size 432x288 with 1 Axes>"
      ]
     },
     "metadata": {},
     "output_type": "display_data"
    }
   ],
   "source": [
    "final_theta_3,error_list_3 = mini_batch_gradientDescent(X_train,Y_train)\n",
    "plt.plot(error_list_3)\n",
    "plt.show()"
   ]
  },
  {
   "cell_type": "code",
   "execution_count": 341,
   "metadata": {},
   "outputs": [],
   "source": [
    "y_pred_3 = hypothesis(X_test,final_theta_3)"
   ]
  },
  {
   "cell_type": "code",
   "execution_count": 342,
   "metadata": {},
   "outputs": [
    {
     "data": {
      "text/plain": [
       "0.11159496151372406"
      ]
     },
     "execution_count": 342,
     "metadata": {},
     "output_type": "execute_result"
    }
   ],
   "source": [
    "r2_score(Y_test,y_pred_3)"
   ]
  },
  {
   "cell_type": "code",
   "execution_count": null,
   "metadata": {},
   "outputs": [],
   "source": []
  },
  {
   "cell_type": "code",
   "execution_count": null,
   "metadata": {},
   "outputs": [],
   "source": []
  },
  {
   "cell_type": "code",
   "execution_count": null,
   "metadata": {},
   "outputs": [],
   "source": []
  }
 ],
 "metadata": {
  "kernelspec": {
   "display_name": "Python 3",
   "language": "python",
   "name": "python3"
  },
  "language_info": {
   "codemirror_mode": {
    "name": "ipython",
    "version": 3
   },
   "file_extension": ".py",
   "mimetype": "text/x-python",
   "name": "python",
   "nbconvert_exporter": "python",
   "pygments_lexer": "ipython3",
   "version": "3.6.8"
  }
 },
 "nbformat": 4,
 "nbformat_minor": 2
}
